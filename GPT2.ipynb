{
  "cells": [
    {
      "cell_type": "markdown",
      "metadata": {
        "id": "lEinCm14sm_V"
      },
      "source": [
        "# Import module"
      ]
    },
    {
      "cell_type": "code",
      "execution_count": 1,
      "metadata": {
        "id": "kv-CKtZzR-rl"
      },
      "outputs": [
        {
          "name": "stderr",
          "output_type": "stream",
          "text": [
            "c:\\Users\\hungu\\AppData\\Local\\Programs\\Python\\Python39\\lib\\site-packages\\tqdm\\auto.py:22: TqdmWarning: IProgress not found. Please update jupyter and ipywidgets. See https://ipywidgets.readthedocs.io/en/stable/user_install.html\n",
            "  from .autonotebook import tqdm as notebook_tqdm\n"
          ]
        }
      ],
      "source": [
        "import torch\n",
        "from transformers import GPT2LMHeadModel, GPT2Tokenizer\n",
        "\n",
        "from torch.optim import Adam\n",
        "from torch.utils.data import DataLoader, TensorDataset\n",
        "\n",
        "import os\n",
        "import sys"
      ]
    },
    {
      "cell_type": "code",
      "execution_count": 39,
      "metadata": {
        "colab": {
          "base_uri": "https://localhost:8080/",
          "height": 35
        },
        "id": "mpBWrJsWuPDO",
        "outputId": "1c9a13e5-568c-4f08-e79b-af3abf82cef7"
      },
      "outputs": [
        {
          "data": {
            "application/vnd.google.colaboratory.intrinsic+json": {
              "type": "string"
            },
            "text/plain": [
              "'cuda'"
            ]
          },
          "execution_count": 39,
          "metadata": {},
          "output_type": "execute_result"
        }
      ],
      "source": [
        "# nếu có GPU thì sử dụng GPU để tăng tốc độ xử lý\n",
        "device = \"cuda\" if torch.cuda.is_available() else \"cpu\"\n",
        "device"
      ]
    },
    {
      "cell_type": "code",
      "execution_count": 40,
      "metadata": {
        "id": "Gd77WT4gR-rm"
      },
      "outputs": [],
      "source": [
        "# Load tokenizer và model đã train sẵn cho tiếng Việt từ NlpHUST\n",
        "model_pretrained = 'NlpHUST/gpt2-vietnamese'\n",
        "tokenizer = GPT2Tokenizer.from_pretrained(model_pretrained)\n",
        "model = GPT2LMHeadModel.from_pretrained(model_pretrained)"
      ]
    },
    {
      "cell_type": "markdown",
      "metadata": {
        "id": "RT2Un4EGR-rn"
      },
      "source": [
        "# Load data"
      ]
    },
    {
      "cell_type": "code",
      "execution_count": 2,
      "metadata": {
        "id": "ISNHL8eHu8T1"
      },
      "outputs": [],
      "source": [
        "DATA_ROOT = '.'\n",
        "filename = 'data.txt'\n",
        "# Đọc dữ liệt từ file data.txt\n",
        "with open(os.path.join(DATA_ROOT, filename), 'r', encoding='utf-8') as f:\n",
        "  data = f.read()"
      ]
    },
    {
      "cell_type": "code",
      "execution_count": null,
      "metadata": {},
      "outputs": [],
      "source": [
        "# chúng ta hoàn toàn có thể xử lý lọc dữ liệu ở đây (nhưng trong phần này mình không xử lý mà bỏ tất cả vào trong model cho nó tự học)"
      ]
    },
    {
      "cell_type": "code",
      "execution_count": 42,
      "metadata": {
        "id": "DfqUTQBl62it"
      },
      "outputs": [],
      "source": [
        "# max sequence length\n",
        "MAX_LENGTH = 128\n",
        "# dùng để làm bước nhảy để tạo sequence (thường là 1 nhưng để giảm số seq lại để train được nhiều dữ liệu mà vẫn giữ được độ chính xác nên mình sử dụng 32)\n",
        "WINDOW_SIZE = 32"
      ]
    },
    {
      "cell_type": "code",
      "execution_count": 68,
      "metadata": {
        "colab": {
          "base_uri": "https://localhost:8080/"
        },
        "id": "Ua88_FHu4hWN",
        "outputId": "4efe9a88-814f-42c9-bab7-bd28c5e283a5"
      },
      "outputs": [
        {
          "data": {
            "text/plain": [
              "(177642, [3643, 1361, 203])"
            ]
          },
          "execution_count": 68,
          "metadata": {},
          "output_type": "execute_result"
        }
      ],
      "source": [
        "# giới hạn mức data lại để train model (do sức mạnh phần cứng không đáp ứng nổi)\n",
        "limit_data = 700000 # 7 trăm nghìn ký tự\n",
        "data_tokenized = tokenizer.encode(data[:limit_data]) \n",
        "len(data_tokenized), data_tokenized[:3]"
      ]
    },
    {
      "cell_type": "code",
      "execution_count": 69,
      "metadata": {
        "colab": {
          "base_uri": "https://localhost:8080/"
        },
        "id": "7IfQDLNovwoo",
        "outputId": "138b9c9c-386b-420b-d704-bf8acde2074a"
      },
      "outputs": [
        {
          "data": {
            "text/plain": [
              "5548"
            ]
          },
          "execution_count": 69,
          "metadata": {},
          "output_type": "execute_result"
        }
      ],
      "source": [
        "def create_sequence(data, max_length=MAX_LENGTH, window_size=WINDOW_SIZE):\n",
        "  # create seq data\n",
        "  sequences = []\n",
        "  mask = []\n",
        "  for i in range(0, len(data)-max_length, window_size):\n",
        "    sequences.append(data[i: i+max_length])\n",
        "    mask.append([1 for _ in range(max_length)])\n",
        "  return sequences, mask\n",
        "sequences, masks = create_sequence(data_tokenized)\n",
        "len(sequences)"
      ]
    },
    {
      "cell_type": "code",
      "execution_count": 70,
      "metadata": {
        "id": "XUA-kqVq6KoJ"
      },
      "outputs": [],
      "source": [
        "# Tạo data loader với batch size là 16\n",
        "batch_size = 16\n",
        "\n",
        "seq_inputs = torch.tensor(sequences)\n",
        "seq_masks = torch.tensor(masks)\n",
        "\n",
        "seq_data = TensorDataset(seq_inputs, seq_masks)\n",
        "dataloader = DataLoader(seq_data, batch_size=batch_size) "
      ]
    },
    {
      "cell_type": "code",
      "execution_count": 62,
      "metadata": {
        "id": "hy2oQVHv81Cp"
      },
      "outputs": [],
      "source": [
        "import time\n",
        "import datetime\n",
        "\n",
        "# Nhận đầu vào là giây, đầu ra là chuỗi hàng hh:mm:ss\n",
        "def format_time(elapsed):\n",
        "    elapsed_rounded = int(round((elapsed)))\n",
        "    return str(datetime.timedelta(seconds=elapsed_rounded))\n",
        "\n",
        "# Dùng để in ra tiến trình xử lý\n",
        "def print_progress(index, total):\n",
        "    sys.stdout.write('\\r')\n",
        "    progress = round(index*100/total)\n",
        "    total_bar = 20\n",
        "    sys.stdout.write('['+ '='*int(total_bar*progress/100) + '-'*int(total_bar-total_bar*progress/100) +'] ')\n",
        "    sys.stdout.write(str(progress)+'%')\n",
        "    sys.stdout.flush()"
      ]
    },
    {
      "cell_type": "code",
      "execution_count": 63,
      "metadata": {
        "id": "whnwUc-1R-rp"
      },
      "outputs": [],
      "source": [
        "# hàm dùng để train model\n",
        "def train(dataloader, model, optim, epochs):\n",
        "  model.to(device)\n",
        "  model.train()\n",
        "  for i in range(epochs):\n",
        "    print('======== Epoch {:} / {:} ========'.format(i + 1, epochs))\n",
        "    print('Training...')\n",
        "    t0 = time.time()\n",
        "    total_loss = 0\n",
        "    \n",
        "    for step, batch in enumerate(dataloader):\n",
        "      print_progress(step, len(dataloader))\n",
        "\n",
        "      X = batch[0].to(device)\n",
        "      m = batch[1].to(device)\n",
        "\n",
        "      optim.zero_grad()\n",
        "\n",
        "      loss = model(X, attention_mask=m, labels=X).loss\n",
        "      total_loss += loss.item()\n",
        "\n",
        "      loss.backward()\n",
        "      optim.step()\n",
        "    print(\"\")\n",
        "    print(\"  Average training loss: {0:.2f}\".format(total_loss / len(dataloader)  ))\n",
        "    print(\"  Training epcoh took: {:}\".format(format_time(time.time() - t0)))\n",
        "    # Luu model nếu cần thiết\n",
        "    torch.save(model.state_dict(), \"model_state.pt\")\n",
        "    print('----------------------------------------------------------')\n",
        "    print(infer(\"Tiếng Việt, còn gọi tiếng Việt Nam hay Việt ngữ, là\"))\n",
        "    print('----------------------------------------------------------')\n",
        "\n",
        "# hàm dùng để in ra thực nghiệm\n",
        "def infer(inp, max_generate_length=96):\n",
        "  inp = tokenizer(inp, return_tensors=\"pt\")\n",
        "  X = inp[\"input_ids\"].to(device)\n",
        "  m = inp[\"attention_mask\"].to(device)\n",
        "  output = model.generate(X, attention_mask=m, max_length=max_generate_length)\n",
        "  output = tokenizer.decode(output[0])\n",
        "  return output"
      ]
    },
    {
      "cell_type": "markdown",
      "metadata": {
        "id": "SjK49GFqb7fi"
      },
      "source": [
        "# Train model"
      ]
    },
    {
      "cell_type": "code",
      "execution_count": 71,
      "metadata": {
        "colab": {
          "base_uri": "https://localhost:8080/"
        },
        "id": "LU5q2Lhkd8Sl",
        "outputId": "ec27ad11-51c8-46e5-b293-902dc48afe9d"
      },
      "outputs": [
        {
          "data": {
            "text/plain": [
              "Embedding(50257, 768)"
            ]
          },
          "execution_count": 71,
          "metadata": {},
          "output_type": "execute_result"
        }
      ],
      "source": [
        "# resize tầng embedding của model\n",
        "model.resize_token_embeddings(len(tokenizer))"
      ]
    },
    {
      "cell_type": "code",
      "execution_count": 72,
      "metadata": {
        "colab": {
          "base_uri": "https://localhost:8080/"
        },
        "id": "kjzM5jnCasJd",
        "outputId": "cf444010-6ccb-461e-d72c-9205982f5ce9"
      },
      "outputs": [
        {
          "name": "stdout",
          "output_type": "stream",
          "text": [
            "======== Epoch 1 / 12 ========\n",
            "Training...\n",
            "[====================] 100%\n",
            "  Average training loss: 2.75\n",
            "  Training epcoh took: 0:03:13\n"
          ]
        },
        {
          "name": "stderr",
          "output_type": "stream",
          "text": [
            "Setting `pad_token_id` to `eos_token_id`:50256 for open-end generation.\n"
          ]
        },
        {
          "name": "stdout",
          "output_type": "stream",
          "text": [
            "----------------------------------------------------------\n",
            "Tiếng Việt, còn gọi tiếng Việt Nam hay Việt ngữ, là một ngôn ngữ thiểu số tại Việt Nam.\n",
            "\n",
            "== Xem thêm ==\n",
            "- \"VietnameseVietnamese\"\n",
            "- \"VietnameseVietnamese\"\n",
            "- \"VietnameseVietnamese\"\n",
            "- \"VietnameseVietnamese\"\n",
            "- \"VietnameseVietnamese\"\n",
            "- \"VietnameseVietnamese\"\n",
            "- \"VietnameseVietnamese\"\n",
            "- \"VietnameseVietnamese\"\n",
            "- \"VietnameseVietnamese\"\n",
            "- \"VietnameseVietnamese\"\n",
            "- \"VietnameseVietnamese\"\n",
            "-\n",
            "----------------------------------------------------------\n",
            "======== Epoch 2 / 12 ========\n",
            "Training...\n",
            "[====================] 100%\n",
            "  Average training loss: 1.89\n",
            "  Training epcoh took: 0:03:13\n"
          ]
        },
        {
          "name": "stderr",
          "output_type": "stream",
          "text": [
            "Setting `pad_token_id` to `eos_token_id`:50256 for open-end generation.\n"
          ]
        },
        {
          "name": "stdout",
          "output_type": "stream",
          "text": [
            "----------------------------------------------------------\n",
            "Tiếng Việt, còn gọi tiếng Việt Nam hay Việt ngữ, là ngôn ngữ của người Việt và là ngôn ngữ chính thức tại Việt Nam. Tiếng Việt còn là ngôn ngữ thứ hai của các dân tộc thiểu số tại Việt Nam.\n",
            "\n",
            "== Xem thêm ==\n",
            "- Học sinh Việt Nam\n",
            "- Học sinh Việt Nam tại Mỹ\n",
            "- Học sinh Việt Nam tại Canada\n",
            "- Học sinh Việt Nam tại México\n",
            "- Học sinh Việt Nam tại México\n",
            "- Học sinh Việt Nam\n",
            "----------------------------------------------------------\n",
            "======== Epoch 3 / 12 ========\n",
            "Training...\n",
            "[====================] 100%\n",
            "  Average training loss: 1.23\n",
            "  Training epcoh took: 0:03:13\n"
          ]
        },
        {
          "name": "stderr",
          "output_type": "stream",
          "text": [
            "Setting `pad_token_id` to `eos_token_id`:50256 for open-end generation.\n"
          ]
        },
        {
          "name": "stdout",
          "output_type": "stream",
          "text": [
            "----------------------------------------------------------\n",
            "Tiếng Việt, còn gọi tiếng Việt Nam hay Việt ngữ, là ngôn ngữ của người Việt và người Mỹ gốc Việt tại Mỹ, là ngôn ngữ chính thức tại Việt Nam. Tiếng Việt còn được chính thức dùng trong trong giao tiếp hằng ngày khi người Mỹ gốc Việt tại Việt Nam dùng tiếng Việt thay thế tiếng Anh giao tiếp hằng ngày.\n",
            "\n",
            "== Giáo dục ==\n",
            "===Đại học và cao đẳng===\n",
            "Đại học Quốc gia Việt Nam là trường đại học công lập do\n",
            "----------------------------------------------------------\n",
            "======== Epoch 4 / 12 ========\n",
            "Training...\n",
            "[====================] 100%\n",
            "  Average training loss: 0.82\n",
            "  Training epcoh took: 0:03:12\n"
          ]
        },
        {
          "name": "stderr",
          "output_type": "stream",
          "text": [
            "Setting `pad_token_id` to `eos_token_id`:50256 for open-end generation.\n"
          ]
        },
        {
          "name": "stdout",
          "output_type": "stream",
          "text": [
            "----------------------------------------------------------\n",
            "Tiếng Việt, còn gọi tiếng Việt Nam hay Việt ngữ, là các ngôn ngữ địa phương.\n",
            "\n",
            "== Lịch sử ==\n",
            "===Những chứng tích lịch sử===\n",
            "Những người Việt đầu tiên tại Mỹ, sinh ra tại Mỹ, hoặc học sinh, sinh ra tại Mỹ, hoặc những người Việt làm việc tại Mỹ, sinh ra tại Mỹ, hoặc những người Việt định cư tại Mỹ, sinh ra tại Canada, sinh ra tại Mỹ, hoặc những người Việt sống bất hợp\n",
            "----------------------------------------------------------\n",
            "======== Epoch 5 / 12 ========\n",
            "Training...\n",
            "[====================] 100%\n",
            "  Average training loss: 0.54\n",
            "  Training epcoh took: 0:03:12\n"
          ]
        },
        {
          "name": "stderr",
          "output_type": "stream",
          "text": [
            "Setting `pad_token_id` to `eos_token_id`:50256 for open-end generation.\n"
          ]
        },
        {
          "name": "stdout",
          "output_type": "stream",
          "text": [
            "----------------------------------------------------------\n",
            "Tiếng Việt, còn gọi tiếng Việt Nam hay Việt ngữ, là ngôn ngữ dùng trong giáo dục, trong đó tiếng Việt gọi là tiếng Việt, tiếng Mường gọi là Mường, và tiếng Hán gọi là Hán-Việt.\n",
            "\n",
            "== Lịch sử ==\n",
            "=== Đệ Nhất Cộng hòa 1955-1963 ===\n",
            "Lịch sử của Sài Gòn sau khi được ghi lại ở trong sách \"Những người đã gặp\" cho thấy một sự gia tăng đáng kể của dân số người Việt từ khi họ\n",
            "----------------------------------------------------------\n",
            "======== Epoch 6 / 12 ========\n",
            "Training...\n",
            "[====================] 100%\n",
            "  Average training loss: 0.35\n",
            "  Training epcoh took: 0:03:12\n"
          ]
        },
        {
          "name": "stderr",
          "output_type": "stream",
          "text": [
            "Setting `pad_token_id` to `eos_token_id`:50256 for open-end generation.\n"
          ]
        },
        {
          "name": "stdout",
          "output_type": "stream",
          "text": [
            "----------------------------------------------------------\n",
            "Tiếng Việt, còn gọi tiếng Việt Nam hay Việt ngữ, là ngôn ngữ của người Việt và là ngôn ngữ chính thức của Việt Nam Cộng hòa. Tiếng Việt còn được chính quyền Việt Nam công nhận và trở thành ngôn ngữ chính thức trong Việt Nam Cộng hòa.\n",
            "\n",
            "== Giáo dục ==\n",
            "===Đại học ===\n",
            "Đại học Quốc gia là một nhánh của hệ thống Đại học Quốc gia Hoa Kỳ. Nó nằm gần hoàn toàn trong góc tây nam của bán đảo San Jose\n",
            "----------------------------------------------------------\n",
            "======== Epoch 7 / 12 ========\n",
            "Training...\n",
            "[====================] 100%\n",
            "  Average training loss: 0.23\n",
            "  Training epcoh took: 0:03:12\n"
          ]
        },
        {
          "name": "stderr",
          "output_type": "stream",
          "text": [
            "Setting `pad_token_id` to `eos_token_id`:50256 for open-end generation.\n"
          ]
        },
        {
          "name": "stdout",
          "output_type": "stream",
          "text": [
            "----------------------------------------------------------\n",
            "Tiếng Việt, còn gọi tiếng Việt Nam hay Việt ngữ, là ngôn ngữ của người Việt và là ngôn ngữ chính thức tại Việt Nam. Đây là tiếng mẹ đẻ của khoảng 85% dân cư Việt Nam, cùng với hơn 4 triệu người Việt hải ngoại. Tiếng Việt còn là ngôn ngữ thứ hai của các dân tộc thuộc nền văn hóa thổ dân tại Việt Nam. Mặc dù tiếng Việt có một số từ vựng vay mượn từ tiếng Hán và trước đây dùng chữ Nôm – một\n",
            "----------------------------------------------------------\n",
            "======== Epoch 8 / 12 ========\n",
            "Training...\n",
            "[====================] 100%\n",
            "  Average training loss: 0.16\n",
            "  Training epcoh took: 0:03:12\n"
          ]
        },
        {
          "name": "stderr",
          "output_type": "stream",
          "text": [
            "Setting `pad_token_id` to `eos_token_id`:50256 for open-end generation.\n"
          ]
        },
        {
          "name": "stdout",
          "output_type": "stream",
          "text": [
            "----------------------------------------------------------\n",
            "Tiếng Việt, còn gọi tiếng Việt Nam hay Việt ngữ, là ngôn ngữ của người Việt và là ngôn ngữ chính thức tại miền Nam Việt Nam, là ngôn ngữ phổ thông đối với người Việt.\n",
            "\n",
            "=== Hệ thống phát âm===\n",
            "=== Thanh điệu ===\n",
            "=== Thanh điệu tiếng Việt Thanh điệu là những âm được vay mượn từ tiếng Trung. Theo tài liệu của những nhà truyền giáo Bồ Đào Nha lúc trước, những người dân của Thanh điệu được dạy bảo cách đọc\n",
            "----------------------------------------------------------\n",
            "======== Epoch 9 / 12 ========\n",
            "Training...\n",
            "[====================] 100%\n",
            "  Average training loss: 0.12\n",
            "  Training epcoh took: 0:03:12\n"
          ]
        },
        {
          "name": "stderr",
          "output_type": "stream",
          "text": [
            "Setting `pad_token_id` to `eos_token_id`:50256 for open-end generation.\n"
          ]
        },
        {
          "name": "stdout",
          "output_type": "stream",
          "text": [
            "----------------------------------------------------------\n",
            "Tiếng Việt, còn gọi tiếng Việt Nam hay Việt ngữ, là ngôn ngữ quốc gia tại Việt Nam. Tiếng Việt được chính thức ghi nhận trong Hiến pháp Việt Nam 2013, tại Chương I Điều 5 Mục 3, là ngôn ngữ quốc gia của Việt Nam.\n",
            "\n",
            "Tiếng Việt được chính thức ghi nhận trong Hiến pháp Việt Nam 2013, tại Chương I Điều 5 Mục 3, là ngôn ngữ quốc gia của Việt Nam. Tiếng Việt bao gồm cách phát âm tiếng Việt và chữ\n",
            "----------------------------------------------------------\n",
            "======== Epoch 10 / 12 ========\n",
            "Training...\n",
            "[====================] 100%\n",
            "  Average training loss: 0.09\n",
            "  Training epcoh took: 0:03:12\n"
          ]
        },
        {
          "name": "stderr",
          "output_type": "stream",
          "text": [
            "Setting `pad_token_id` to `eos_token_id`:50256 for open-end generation.\n"
          ]
        },
        {
          "name": "stdout",
          "output_type": "stream",
          "text": [
            "----------------------------------------------------------\n",
            "Tiếng Việt, còn gọi tiếng Việt Nam hay Việt ngữ, là ngôn ngữ nhóm địa phương. Tiếng Việt còn là ngôn ngữ thứ hai của các dân tộc Tày, Nùng, Dao, Việt, Mường...\n",
            "\n",
            "Cũng theo tiếng Việt, trong tiếng Việt còn có \"Việt ngữ\", có nghĩa là \"Tiếng nói của người Việt ở hải ngoại\".\n",
            "\n",
            "== Tiếng địa phương ==\n",
            "Tiếng Việt là ngôn ngữ có nguồn gốc bản địa, xuất thân từ nền văn minh nông\n",
            "----------------------------------------------------------\n",
            "======== Epoch 11 / 12 ========\n",
            "Training...\n",
            "[====================] 100%\n",
            "  Average training loss: 0.08\n",
            "  Training epcoh took: 0:03:12\n"
          ]
        },
        {
          "name": "stderr",
          "output_type": "stream",
          "text": [
            "Setting `pad_token_id` to `eos_token_id`:50256 for open-end generation.\n"
          ]
        },
        {
          "name": "stdout",
          "output_type": "stream",
          "text": [
            "----------------------------------------------------------\n",
            "Tiếng Việt, còn gọi tiếng Việt Nam hay Việt ngữ, là các ngôn ngữ thường được dạy trong trường học và tại nhà do người Việt dạy, và được xếp vào Ngữ chi Việt thuộc nhóm ngôn ngữ Môn–Khmer trong hệ Nam Á ở khu vực Đông Nam Á hiện nay.\n",
            "\n",
            "Trước năm 1954, tiếng Việt có một số từ vựng mượn từ tiếng Hán để biểu hiện sự phổ biến của tiếng Việt trong tiếng dân tộc thiểu số. Sau khi Việt Nam thống\n",
            "----------------------------------------------------------\n",
            "======== Epoch 12 / 12 ========\n",
            "Training...\n",
            "[====================] 100%\n",
            "  Average training loss: 0.07\n",
            "  Training epcoh took: 0:03:12\n"
          ]
        },
        {
          "name": "stderr",
          "output_type": "stream",
          "text": [
            "Setting `pad_token_id` to `eos_token_id`:50256 for open-end generation.\n"
          ]
        },
        {
          "name": "stdout",
          "output_type": "stream",
          "text": [
            "----------------------------------------------------------\n",
            "Tiếng Việt, còn gọi tiếng Việt Nam hay Việt ngữ, là các ngôn ngữ chính thức tại Việt Nam. Tiếng Việt bao gồm cách phát âm tiếng Việt và chữ Quốc ngữ để viết. Tuy nhiên, hiện chưa có bất kỳ văn bản nào ở cấp nhà nước quy định \"giọng chuẩn\" và \"quốc tự\" của tiếng Việt. Hiện nay phần lớn các văn bản trong nước được viết theo những \"Quy định về chính tả tiếng Việt và về thuật ngữ tiếng Việt\"\n",
            "----------------------------------------------------------\n"
          ]
        }
      ],
      "source": [
        "# khởi tại tuật toán tối ưu rồi train model\n",
        "optim = Adam(model.parameters(), lr=1e-3)\n",
        "train(dataloader, model, optim, epochs=12)"
      ]
    },
    {
      "cell_type": "code",
      "execution_count": 83,
      "metadata": {
        "colab": {
          "base_uri": "https://localhost:8080/"
        },
        "id": "ySyHQjKZR-rq",
        "outputId": "230dcbe4-f3b1-4d02-aa1f-86e67ae8e363"
      },
      "outputs": [
        {
          "name": "stdout",
          "output_type": "stream",
          "text": [
            "infer from model : \n",
            "== Ngữ âm == ===Nguyên âm=== Giống như nhiều ngôn ngữ khác ở Đông Nam Á\n"
          ]
        },
        {
          "name": "stderr",
          "output_type": "stream",
          "text": [
            "Setting `pad_token_id` to `eos_token_id`:50256 for open-end generation.\n"
          ]
        },
        {
          "name": "stdout",
          "output_type": "stream",
          "text": [
            "== Ngữ âm == ===Nguyên âm=== Giống như nhiều ngôn ngữ khác ở Đông Nam Á, tiếng Việt khá phong phú về các nguyên âm. Dưới đây là bảng các nguyên âm theo giọng Hà Nội.\n",
            "Trong bảng trên, các nguyên âm trước, giữa và nguyên âm mở là nguyên âm không tròn môi, còn lại là nguyên âm tròn môi. \"Ă\" và \"â\" là dạng ngắn của \"a\" và \"ơ\".\n",
            "\n",
            "Đồng thời, tiếng Việt còn có hệ thống nguyên âm đôi và nguyên âm ba.\n",
            "\n",
            "===Phụ âm===\n",
            "Bảng dưới đây trình bày các phụ âm trong tiếng Việt và cách viết.\n",
            "Một số phụ âm chỉ có một cách viết, nhưng một số có nhiều cách viết như \"k\", có thể được biểu diễn bằng \"c\", \"k\", \"k\", \"k\" hay \"q\".\n",
            "Đồng thời, các phụ âm có nhiều cách viết như \"k\" và \"qvist\" có thể được biểu diễn bằng \"c\" hay \"qvist nếu tất cả các người nói tiếng Việt đều đã nói tiếng Việt rành tiếng Anh ở nhà.\n",
            "\n",
            "Tiếng Việt gọi là \"phát thanh\" hay \"truyền hình\" nhưng tiếng Anh gọi là \"phát thanh\" hay \"truyền hình\n",
            "\n",
            "Một số từ ngữ Hán cổ có thể kể đến như\n"
          ]
        },
        {
          "name": "stderr",
          "output_type": "stream",
          "text": [
            "Setting `pad_token_id` to `eos_token_id`:50256 for open-end generation.\n"
          ]
        },
        {
          "name": "stdout",
          "output_type": "stream",
          "text": [
            "Một số từ ngữ Hán cổ có thể kể đến như \"đầu\", \"gan\", \"ghế\", \"ông\", \"bà\", \"cô\", \"chè\", \"ngà\", \"chén\", \"chém\", \"chìm\", \"buồm\", \"mùi\", \"mùa hè mát mẻ\" v.v. thì miền Bắc lại dùng những chữ \"mùa đông\", \"tháng 6\", \"tháng 7\" và \"tháng 8\". Vào mùa đông, các chữ cái bắt đầu có những dấu thanh, như \"sỉ diện\", \"phi công\", \"bao gồm\", \"sống động\", \"sinh đẻ\", vân vân. Trong khi tiếng Việt gọi là \"phát thanh\" thì tiếng Hán lại gọi là 廣播 \"quảng bá\"; tiếng Việt gọi là 電 電 電 電 電 電 電 電 電 電 電 電 電 電 電 電 電 電 電 電 電 電 電 電 電 電 電 電 電 電 電 電 電 電 電 電 電 電 電 電 電 電 電 電 電 電 電 電 電 電 電 電 �\n",
            "\n",
            "Internet Society hay ISOC là\n"
          ]
        },
        {
          "name": "stderr",
          "output_type": "stream",
          "text": [
            "Setting `pad_token_id` to `eos_token_id`:50256 for open-end generation.\n"
          ]
        },
        {
          "name": "stdout",
          "output_type": "stream",
          "text": [
            "Internet Society hay ISOC là một tổ chức quốc tế hoạt động vì lợi ích của cả cá nhân và cộng đồng. Tổ chức này chú trọng đến: tiêu chuẩn, giáo dục và các vấn đề về chính sách. Với trên 145 tổ chức thành viên và 65.000 thành viên cá nhân, ISOC bao gồm những con người cụ thể trong cộng đồng Internet. Mọi chi tiết có thể tìm thấy tại website của ISOC.\n",
            "\n",
            "Internet Society nằm ở gần thủ đô Washington, DC, Hoa Kỳ và Geneva, Thụy Sĩ. Số hội viên của nó bao gồm hơn 145 tổ chức thành viên đến từ khắp nơi trên khắp quốc gia, hơn 65.000 người ở Thụy Điển, Úc, Hàn Quốc, Israel, Hàn Quốc, và gần 40.000 thành viên thuộc các Cộng hòa Xã hội Chủ nghĩa Việt Nam. Thành viên còn có thể tự lập một chi nhánh của mình.\n",
            "\n",
            "== Các cựu thuộc địa của Liên bang ==\n",
            "Theo nguyên tắc căn bản, tất cả các cựu thuộc địa của Liên bang trước khi trở thành thuộc địa của Hoa Kỳ phải được tái bầu cử lại. Các ứng cử viên Cộng hòa đương nhiệm thuộc Đảng Cộng hòa đương nhiệm thuộc Đảng Cộng hòa đương nhiệm thường lệ kiểm soát cả hai viện và Dân chủ Xã hội trong\n",
            "\n",
            "exit\n"
          ]
        }
      ],
      "source": [
        "# chạy thực nghiệm model\n",
        "print(\"infer from model : \")\n",
        "while True:\n",
        "  inp = input()\n",
        "  if inp == 'exit':\n",
        "    break\n",
        "  print(infer(inp, 256))\n",
        "  print()"
      ]
    },
    {
      "attachments": {},
      "cell_type": "markdown",
      "metadata": {},
      "source": [
        "### Trong dữ liệu huấn luyện\n",
        "1.\n",
        "== Ngữ âm ==\n",
        "===Nguyên âm===\n",
        "Giống như nhiều ngôn ngữ khác ở Đông Nam Á, tiếng Việt khá phong phú về nguyên âm. Dưới đây là bảng các nguyên âm theo giọng Hà Nội.\n",
        "Trong bảng trên, các nguyên âm trước, giữa và nguyên âm mở là nguyên âm không tròn môi, còn lại là nguyên âm tròn môi. \"Ă\" và \"â\" là dạng ngắn của \"a\" và \"ơ\".\n",
        "\n",
        "Đồng thời, tiếng Việt còn có hệ thống nguyên âm đôi và nguyên âm ba.\n",
        "\n",
        "2. \n",
        "Một số từ ngữ Hán cổ có thể kể đến như \"đầu\", \"gan\", \"ghế\", \"ông\", \"bà\", \"cô\", \"chè\", \"ngà\", \"chén\", \"chém\", \"chìm\", \"buồng\", \"buồn\", \"buồm\", \"mùi\", \"mùa\"... Từ Hán cổ là những từ gốc Hán được du nhập vào tiếng Việt đã lâu, đã được đồng hoá rất mạnh, nên những từ này hiện nay là từ thông thường trong hoạt động xã hội đối với người Việt.\n",
        "Hệ thống Hán–Việt trong tiếng Việt bằng cách đọc các chữ Hán theo ngữ âm hiện có của tiếng Việt. Số lượng từ vựng tiếng Việt có thêm hàng loạt các yếu tố Hán–Việt. Như là \"chủ\", \"ở\", \"tâm\", \"minh\", \"đức\", \"thiên\", \"tự do\"... giữ nguyên nghĩa chỉ khác cách đọc; hay thay đổi vị trí như \"nhiệt náo\" thành \"náo nhiệt\", \"thích phóng\" thành \"phóng thích\", \"đảm bảo\" thành \"bảo đảm\"...; hoặc được rút gọn như \"thừa trần\" thành \"trần\", \"lạc hoa sinh\" thành \"lạc\"...; hoặc được đọc chệch đi như \"tiếp thu\" thành \"tiếp thụ\", \"tháp nhập\" thành \"sáp nhập\", \"thống kế\" thành \"thống kê\", \"chúng cư\" thành \"chung cư\", \"vãn cảnh\" thành \"vãng cảnh\", \"khuyến mãi\" thành \"khuyến mại\"...; \n",
        "\n",
        "3. \n",
        "Internet Society\n",
        "\n",
        "Internet Society hay ISOC là một tổ chức quốc tế hoạt động phi lợi nhuận, phi chính phủ và bao gồm các thành viên có trình độ chuyên ngành. Tổ chức này chú trọng đến: tiêu chuẩn, giáo dục và các vấn đề về chính sách. Với trên 145 tổ chức thành viên và 65.000 thành viên cá nhân, ISOC bao gồm những con người cụ thể trong cộng đồng Internet. Mọi chi tiết có thể tìm thấy tại website của ISOC.\n",
        "\n",
        "Internet Society nằm ở gần thủ đô Washington, DC, Hoa Kỳ và Geneva, Thụy Sĩ. Số hội viên của nó bao gồm hơn 145 tổ chức thành viên và hơn 65.000 cá nhân. Thành viên còn có thể tự lập một chi nhánh của tổ chức tùy theo vị trí hoặc sở thích. Hiện nay tổ chức có tới 90 chi nhánh trên toàn thế giới.\n"
      ]
    }
  ],
  "metadata": {
    "accelerator": "GPU",
    "colab": {
      "provenance": []
    },
    "gpuClass": "standard",
    "kernelspec": {
      "display_name": "Python 3",
      "language": "python",
      "name": "python3"
    },
    "language_info": {
      "codemirror_mode": {
        "name": "ipython",
        "version": 3
      },
      "file_extension": ".py",
      "mimetype": "text/x-python",
      "name": "python",
      "nbconvert_exporter": "python",
      "pygments_lexer": "ipython3",
      "version": "3.9.12"
    },
    "orig_nbformat": 4
  },
  "nbformat": 4,
  "nbformat_minor": 0
}
